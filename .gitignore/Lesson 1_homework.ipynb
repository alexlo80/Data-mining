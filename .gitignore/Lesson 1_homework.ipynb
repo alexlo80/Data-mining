{
 "cells": [
  {
   "cell_type": "markdown",
   "metadata": {},
   "source": [
    "### задача с 5кой"
   ]
  },
  {
   "cell_type": "code",
   "execution_count": 66,
   "metadata": {},
   "outputs": [],
   "source": [
    "import time\n",
    "import json\n",
    "from pathlib import Path\n",
    "import requests\n",
    "import time\n",
    "import json\n",
    "from pathlib import Path\n",
    "import requests\n",
    "\n",
    "class Parse5ka:\n",
    "    def __init__(self, start_url: str, result_path: Path):\n",
    "        self.start_url = start_url\n",
    "        self.result_path = result_path\n",
    "\n",
    "# метод класса делает запрос по принимаемому адресу, если код ответа 200, то отдает ответ\n",
    "    def _get_response(self, url, *args, **kwargs) -> requests.Response:\n",
    "        while True:\n",
    "            response = requests.get(url, *args, **kwargs)\n",
    "            if response.status_code == 200:\n",
    "                return response\n",
    "            time.sleep(1)\n",
    "            \n",
    "# метод класса ничего не принимает, переберает все результаты из метода _parse и сохраняет через метод_save\n",
    "    def run(self):\n",
    "        self._parse(self.start_url,params)\n",
    "\n",
    "# метод принимает адрес, запускает метод _get_response ( получает ответ), переводит данные в json. \n",
    "    def _parse(self, url, params):\n",
    "                response = self._get_response(url, params=params)\n",
    "                data = response.json()\n",
    "                self._save(data)\n",
    "\n",
    "# метод принимает данные и сохраняет в отдельный файл по указаному пути, преобразуя в русский язык\n",
    "    def _save(self, data):\n",
    "        with open(f'categories/{Parse5ka.datacat[i].get(\"parent_group_code\")}.json', 'w', encoding='utf-8') as file:\n",
    "                    json.dump(data, file, indent=2, ensure_ascii=False)\n",
    "\n",
    "\n",
    "                \n",
    "class Parse5kaCategory(Parse5ka):\n",
    "    def __init__(self, start_url: str):\n",
    "        self.start_url = start_url\n",
    "            \n",
    "# метод класса ничего не принимает, переберает все результаты из метода _parse и сохраняет через метод_save\n",
    "    def run(self):\n",
    "        self._parse(self.start_url)\n",
    "\n",
    "# метод принимает адрес, запускает метод _get_response ( получает ответ), переводит данные в json. \n",
    "    def _parse(self, url):\n",
    "                response = self._get_response(url)\n",
    "                data = response.json()\n",
    "                Parse5ka.datacat = data\n",
    "\n"
   ]
  },
  {
   "cell_type": "code",
   "execution_count": 72,
   "metadata": {},
   "outputs": [],
   "source": [
    "if __name__ == \"__main__\":\n",
    "#будем сохранять в папку categories # если папка не существует ее надо создать   \n",
    "    file_path = Path('DataMining').parent.joinpath(\"categories\")  \n",
    "    if not file_path.exists():\n",
    "        file_path.mkdir()\n",
    "        \n",
    "# - обьект класса Parse5kaCategory для получения списка категорий \n",
    "    cat = Parse5kaCategory(\"https://5ka.ru/api/v2/categories/\")\n",
    "    params = {}\n",
    "    cat.run()\n",
    "   \n",
    "\n",
    "     # создали parser - обьект класса Parse5ka для итераций по списку категорий   \n",
    "    parser = Parse5ka(\"https://5ka.ru/api/v2/special_offers/\", file_path) \n",
    "    for i in range(len(parser.datacat)):\n",
    "        params = {'categories' :parser.datacat[i].get('parent_group_code')}\n",
    "        parser.run()"
   ]
  },
  {
   "cell_type": "markdown",
   "metadata": {},
   "source": [
    "### задача из методички"
   ]
  },
  {
   "cell_type": "markdown",
   "metadata": {},
   "source": [
    "#### Посмотреть документацию к API GitHub, разобраться как вывести список репозиториев для\n",
    "конкретного пользователя, сохранить JSON-вывод в файле *.json."
   ]
  },
  {
   "cell_type": "code",
   "execution_count": 30,
   "metadata": {},
   "outputs": [],
   "source": [
    "url = 'https://api.github.com/users/alexlo80/repos'\n",
    "req = requests.get(url)\n",
    "data = json.loads(req.text)"
   ]
  },
  {
   "cell_type": "code",
   "execution_count": 34,
   "metadata": {},
   "outputs": [
    {
     "name": "stdout",
     "output_type": "stream",
     "text": [
      "GeekBrains-ML_classifications\n",
      "GeekBrains-MySql\n",
      "GeekBrains_Numpy_Pandas\n",
      "geekproject\n",
      "MySQL\n",
      "projects\n",
      "publications\n",
      "Python_basics_Geekbrains\n",
      "Python_basic_07_09_2020\n",
      "python_basic_07_09_2020-1\n",
      "repo_kraken2\n",
      "test-repo\n"
     ]
    }
   ],
   "source": [
    "for data in data:\n",
    "    print(data['name'])"
   ]
  },
  {
   "cell_type": "code",
   "execution_count": null,
   "metadata": {},
   "outputs": [],
   "source": []
  }
 ],
 "metadata": {
  "kernelspec": {
   "display_name": "Python 3",
   "language": "python",
   "name": "python3"
  },
  "language_info": {
   "codemirror_mode": {
    "name": "ipython",
    "version": 3
   },
   "file_extension": ".py",
   "mimetype": "text/x-python",
   "name": "python",
   "nbconvert_exporter": "python",
   "pygments_lexer": "ipython3",
   "version": "3.7.6"
  }
 },
 "nbformat": 4,
 "nbformat_minor": 4
}
